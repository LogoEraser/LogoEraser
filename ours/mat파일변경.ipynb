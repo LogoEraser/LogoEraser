{
 "cells": [
  {
   "cell_type": "markdown",
   "metadata": {},
   "source": [
    "# change_data(input_file,out_file,r) 정의 :\n",
    "\n",
    "input_file의 데이터를 읽고 각 로고 데이터의 r 비율을 바꿔 out_file로 저장\n",
    "\n",
    "- input_file : .mat 파일 이름 (경로 포함)\n",
    "\n",
    "- output_file : . mat 파일 이름 (경로 포함)\n",
    "\n",
    "- r : [0,1] 의 소수"
   ]
  },
  {
   "cell_type": "code",
   "execution_count": 1,
   "metadata": {},
   "outputs": [],
   "source": [
    "# .mat 파일 읽어서 각 로고 데이터의 r 비율을 바꾼다.\n",
    "\n",
    "def change_data(input_file,out_file,r):\n",
    "    \n",
    "    # import 모듈\n",
    "    from scipy import io\n",
    "    import numpy as np\n",
    "    import copy\n",
    "    \n",
    "    # .mat 파일 읽기\n",
    "    mat_file = io.loadmat(input_file)\n",
    "    \n",
    "    # .mat 파일 내용 읽기\n",
    "    groundtruth=mat_file['groundtruth']\n",
    "    \n",
    "    file_mat=groundtruth['file'][0]\n",
    "    bboxes_mat=groundtruth['bboxes'][0]\n",
    "    name_mat=groundtruth['name'][0]\n",
    "    \n",
    "    # 로고 종류 담을 리스트\n",
    "    logo_lst=[]\n",
    "    \n",
    "    # 바꾼 데이터 개수\n",
    "    num=0\n",
    "    \n",
    "    # 로고 종류 뽑기\n",
    "    for logo in name_mat:\n",
    "\n",
    "        if logo not in logo_lst:\n",
    "\n",
    "            logo_lst.append(logo)\n",
    "\n",
    "    # 각 로고마다 r 비율로 데이터 변형\n",
    "    for logo in logo_lst:\n",
    "        \n",
    "        # 로고 수\n",
    "        num_logo=sum(name_mat==logo)\n",
    "\n",
    "        # 로고의 원래 인덱스\n",
    "        # tuple 의미 있는 건 orig_ind[0]\n",
    "        orig_ind=np.where(name_mat==logo)\n",
    "\n",
    "        # 변형할 개수\n",
    "        num_choice=(int)(num_logo*r)\n",
    "        \n",
    "        num+=num_choice\n",
    "\n",
    "        # 변형할 데이터의 인덱스\n",
    "        ind=np.random.choice(orig_ind[0],num_choice,replace=False)\n",
    "\n",
    "        # 위,왼쪽,아래쪽,오른쪽 변형할 개수 저장\n",
    "        sides=np.array([0,0,0,0])\n",
    "\n",
    "        # num_choice에서 4로 나누는데 나머지 있을 수 있으므로,\n",
    "        # 고르게 하기 위해 다음과 같이 처리\n",
    "        base= int(num_choice/4)\n",
    "        \n",
    "        sides=sides+base\n",
    "        \n",
    "        residue=int(num_choice%4)\n",
    "        \n",
    "        # 나머지를 어디에 더할지 랜덤으로 정함\n",
    "        res=[0,1,2,3]\n",
    "\n",
    "        choice=np.random.choice(res,residue,replace=False)\n",
    "\n",
    "        sides[choice]+=1\n",
    "        \n",
    "        # ind 앞에서부터 차례대로 진행\n",
    "\n",
    "        #'Up' side\n",
    "        for i in range(sides[0]):\n",
    "\n",
    "            # 변형할 인덱스 저장하고 ind에서 지운다 \n",
    "            indx=ind[0]\n",
    "            ind=np.delete(ind,0,0)\n",
    "     \n",
    "            # 바운딩 박스 여러 개일 수 있으므로 각각 적용 \n",
    "            for bbox in bboxes_mat[indx]:\n",
    "\n",
    "                # h\n",
    "                bbox[3]/=2\n",
    "\n",
    "                # y\n",
    "                bbox[1]+=(bbox[3]/2)     \n",
    "\n",
    "        # 'Left' side\n",
    "        for i in range(sides[1]):\n",
    "\n",
    "            indx=ind[0]\n",
    "            ind=np.delete(ind,0,0)\n",
    "\n",
    "            for bbox in bboxes_mat[indx]:\n",
    "\n",
    "                # w\n",
    "                bbox[2]/=2\n",
    "\n",
    "                # x\n",
    "                bbox[0]-=(bbox[2]/2)\n",
    "\n",
    "        #'Down' side\n",
    "        for i in range(sides[2]):\n",
    "\n",
    "\n",
    "            indx=ind[0]\n",
    "            ind=np.delete(ind,0,0)\n",
    "\n",
    "            for bbox in bboxes_mat[indx]:\n",
    "\n",
    "                # h\n",
    "                bbox[3]/=2\n",
    "\n",
    "                # y\n",
    "                bbox[1]-=(bbox[3]/2)\n",
    "\n",
    "        #'Right' side\n",
    "        for i in range(sides[3]):\n",
    "\n",
    "            indx=ind[0]\n",
    "            ind=np.delete(ind,0,0)\n",
    "            \n",
    "            for bbox in bboxes_mat[indx]:\n",
    "\n",
    "                # w\n",
    "                bbox[2]=bbox[2]/2\n",
    "\n",
    "                # x\n",
    "                bbox[0]+=(bbox[2]/2)\n",
    "\n",
    "    # 결과물 저장\n",
    "    out=io.savemat(out_file,{'groundtruth':groundtruth})\n",
    "    \n",
    "    return num\n",
    "    "
   ]
  },
  {
   "cell_type": "markdown",
   "metadata": {},
   "source": [
    "# 실행 하기 :"
   ]
  },
  {
   "cell_type": "code",
   "execution_count": 2,
   "metadata": {},
   "outputs": [],
   "source": [
    "num=change_data('groundtruth.mat','h.mat',0.2)"
   ]
  },
  {
   "cell_type": "markdown",
   "metadata": {},
   "source": [
    "# 확인하기 : "
   ]
  },
  {
   "cell_type": "code",
   "execution_count": 3,
   "metadata": {},
   "outputs": [],
   "source": [
    "from scipy import io\n",
    "import numpy as np\n",
    "\n",
    "import copy"
   ]
  },
  {
   "cell_type": "code",
   "execution_count": 4,
   "metadata": {},
   "outputs": [],
   "source": [
    "mat_file = io.loadmat('groundtruth.mat')\n",
    "\n",
    "hi_file=io.loadmat('h.mat')"
   ]
  },
  {
   "cell_type": "code",
   "execution_count": 5,
   "metadata": {},
   "outputs": [
    {
     "name": "stdout",
     "output_type": "stream",
     "text": [
      "1552\n",
      "1552\n"
     ]
    }
   ],
   "source": [
    "num2=0\n",
    "\n",
    "for i in range(len(mat_file['groundtruth']['bboxes'][0])):\n",
    "    \n",
    "    if np.any(mat_file['groundtruth']['bboxes'][0][i]-hi_file['groundtruth']['bboxes'][0][i]):\n",
    "        #print(i)\n",
    "        num2+=1\n",
    "        \n",
    "print(num)\n",
    "print(num2)"
   ]
  },
  {
   "cell_type": "code",
   "execution_count": null,
   "metadata": {},
   "outputs": [],
   "source": []
  }
 ],
 "metadata": {
  "kernelspec": {
   "display_name": "Python 3",
   "language": "python",
   "name": "python3"
  },
  "language_info": {
   "codemirror_mode": {
    "name": "ipython",
    "version": 3
   },
   "file_extension": ".py",
   "mimetype": "text/x-python",
   "name": "python",
   "nbconvert_exporter": "python",
   "pygments_lexer": "ipython3",
   "version": "3.6.6"
  }
 },
 "nbformat": 4,
 "nbformat_minor": 2
}
